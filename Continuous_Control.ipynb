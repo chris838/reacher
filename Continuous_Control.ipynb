{
 "cells": [
  {
   "cell_type": "markdown",
   "metadata": {},
   "source": [
    "# Continuous Control\n",
    "\n",
    "---\n",
    "\n",
    "In this notebook, you will learn how to use the Unity ML-Agents environment for the second project of the [Deep Reinforcement Learning Nanodegree](https://www.udacity.com/course/deep-reinforcement-learning-nanodegree--nd893) program.\n",
    "\n",
    "### 1. Start the Environment\n",
    "\n",
    "We begin by importing the necessary packages.  If the code cell below returns an error, please revisit the project instructions to double-check that you have installed [Unity ML-Agents](https://github.com/Unity-Technologies/ml-agents/blob/master/docs/Installation.md) and [NumPy](http://www.numpy.org/)."
   ]
  },
  {
   "cell_type": "code",
   "execution_count": null,
   "metadata": {},
   "outputs": [],
   "source": [
    "from unityagents import UnityEnvironment"
   ]
  },
  {
   "cell_type": "markdown",
   "metadata": {},
   "source": [
    "Next, we will start the environment!  **_Before running the code cell below_**, change the `file_name` parameter to match the location of the Unity environment that you downloaded.\n",
    "\n",
    "- **Mac**: `\"path/to/Reacher.app\"`\n",
    "- **Windows** (x86): `\"path/to/Reacher_Windows_x86/Reacher.exe\"`\n",
    "- **Windows** (x86_64): `\"path/to/Reacher_Windows_x86_64/Reacher.exe\"`\n",
    "- **Linux** (x86): `\"path/to/Reacher_Linux/Reacher.x86\"`\n",
    "- **Linux** (x86_64): `\"path/to/Reacher_Linux/Reacher.x86_64\"`\n",
    "- **Linux** (x86, headless): `\"path/to/Reacher_Linux_NoVis/Reacher.x86\"`\n",
    "- **Linux** (x86_64, headless): `\"path/to/Reacher_Linux_NoVis/Reacher.x86_64\"`\n",
    "\n",
    "For instance, if you are using a Mac, then you downloaded `Reacher.app`.  If this file is in the same folder as the notebook, then the line below should appear as follows:\n",
    "```\n",
    "env = UnityEnvironment(file_name=\"Reacher.app\")\n",
    "```"
   ]
  },
  {
   "cell_type": "code",
   "execution_count": null,
   "metadata": {},
   "outputs": [],
   "source": [
    "env = UnityEnvironment(file_name='Reacher.app')"
   ]
  },
  {
   "cell_type": "markdown",
   "metadata": {},
   "source": [
    "Environments contain **_brains_** which are responsible for deciding the actions of their associated agents. Here we check for the first brain available, and set it as the default brain we will be controlling from Python."
   ]
  },
  {
   "cell_type": "code",
   "execution_count": null,
   "metadata": {},
   "outputs": [],
   "source": [
    "# get the default brain\n",
    "brain_name = env.brain_names[0]\n",
    "brain = env.brains[brain_name]"
   ]
  },
  {
   "cell_type": "markdown",
   "metadata": {},
   "source": [
    "### 2. Examine the State and Action Spaces\n",
    "\n",
    "In this environment, a double-jointed arm can move to target locations. A reward of `+0.1` is provided for each step that the agent's hand is in the goal location. Thus, the goal of your agent is to maintain its position at the target location for as many time steps as possible.\n",
    "\n",
    "The observation space consists of `33` variables corresponding to position, rotation, velocity, and angular velocities of the arm.  Each action is a vector with four numbers, corresponding to torque applicable to two joints.  Every entry in the action vector must be a number between `-1` and `1`.\n",
    "\n",
    "Run the code cell below to print some information about the environment."
   ]
  },
  {
   "cell_type": "code",
   "execution_count": null,
   "metadata": {},
   "outputs": [],
   "source": [
    "# reset the environment\n",
    "env_info = env.reset(train_mode=True)[brain_name]\n",
    "\n",
    "# number of agents\n",
    "num_agents = len(env_info.agents)\n",
    "print('Number of agents:', num_agents)\n",
    "\n",
    "# size of each action\n",
    "action_size = brain.vector_action_space_size\n",
    "print('Size of each action:', action_size)\n",
    "\n",
    "# examine the state space \n",
    "states = env_info.vector_observations\n",
    "state_size = states.shape[1]\n",
    "print('There are {} agents. Each observes a state with length: {}'.format(states.shape[0], state_size))\n",
    "print('The state for the first agent looks like:', states[0])"
   ]
  },
  {
   "cell_type": "markdown",
   "metadata": {},
   "source": [
    "### 3. Take Random Actions in the Environment\n",
    "\n",
    "In the next code cell, you will learn how to use the Python API to control the agent and receive feedback from the environment.\n",
    "\n",
    "Once this cell is executed, you will watch the agent's performance, if it selects an action at random with each time step.  A window should pop up that allows you to observe the agent, as it moves through the environment.  \n",
    "\n",
    "Of course, as part of the project, you'll have to change the code so that the agent is able to use its experience to gradually choose better actions when interacting with the environment!"
   ]
  },
  {
   "cell_type": "code",
   "execution_count": null,
   "metadata": {},
   "outputs": [],
   "source": [
    "env_info = env.reset(train_mode=False)[brain_name]     # reset the environment    \n",
    "states = env_info.vector_observations                  # get the current state (for each agent)\n",
    "scores = np.zeros(num_agents)                          # initialize the score (for each agent)\n",
    "while True:\n",
    "    actions = np.random.randn(num_agents, action_size) # select an action (for each agent)\n",
    "    actions = np.clip(actions, -1, 1)                  # all actions between -1 and 1\n",
    "    env_info = env.step(actions)[brain_name]           # send all actions to tne environment\n",
    "    next_states = env_info.vector_observations         # get next state (for each agent)\n",
    "    rewards = env_info.rewards                         # get reward (for each agent)\n",
    "    dones = env_info.local_done                        # see if episode finished\n",
    "    scores += env_info.rewards                         # update the score (for each agent)\n",
    "    states = next_states                               # roll over states to next time step\n",
    "    if np.any(dones):                                  # exit loop if episode finished\n",
    "        break\n",
    "print('Total score (averaged over agents) this episode: {}'.format(np.mean(scores)))"
   ]
  },
  {
   "cell_type": "markdown",
   "metadata": {},
   "source": [
    "When finished, you can close the environment."
   ]
  },
  {
   "cell_type": "code",
   "execution_count": null,
   "metadata": {},
   "outputs": [],
   "source": [
    "env.close()"
   ]
  },
  {
   "cell_type": "markdown",
   "metadata": {},
   "source": [
    "### 4. It's Your Turn!\n",
    "\n",
    "Now it's your turn to train your own agent to solve the environment!  When training the environment, set `train_mode=True`, so that the line for resetting the environment looks like the following:\n",
    "```python\n",
    "env_info = env.reset(train_mode=True)[brain_name]\n",
    "```"
   ]
  },
  {
   "cell_type": "code",
   "execution_count": null,
   "metadata": {},
   "outputs": [],
   "source": [
    "from unityagents import UnityEnvironment\n",
    "env = UnityEnvironment(file_name='Reacher.app')"
   ]
  },
  {
   "cell_type": "code",
   "execution_count": null,
   "metadata": {},
   "outputs": [],
   "source": [
    "brain_name = env.brain_names[0]\n",
    "brain = env.brains[brain_name]"
   ]
  },
  {
   "cell_type": "code",
   "execution_count": null,
   "metadata": {},
   "outputs": [],
   "source": [
    "import torch    \n",
    "import torch.autograd as autograd         \n",
    "import torch.nn as nn                     \n",
    "import torch.nn.functional as F           \n",
    "import torch.optim as optim               \n",
    "import torch.distributions\n",
    "\n",
    "import pandas as pd\n",
    "import numpy as np\n",
    "\n",
    "import holoviews as hv\n",
    "from holoviews import opts\n",
    "from holoviews.streams import Pipe, Buffer\n",
    "\n",
    "import streamz\n",
    "import streamz.dataframe\n",
    "\n",
    "import pdb, gym\n",
    "\n",
    "hv.extension('bokeh')"
   ]
  },
  {
   "cell_type": "code",
   "execution_count": null,
   "metadata": {},
   "outputs": [],
   "source": [
    "# Setup training progress output\n",
    "def init_training_progress():\n",
    "\n",
    "    max_length = 1000000\n",
    "    rolling_size = 25\n",
    "\n",
    "    training_stream = streamz.Stream()\n",
    "    example = pd.DataFrame({'x': [0]}, index=[0])\n",
    "\n",
    "    training_sdf = streamz.dataframe.DataFrame(training_stream, example=example)\n",
    "\n",
    "    training_raw_buffer = Buffer(training_sdf, length=max_length)\n",
    "    training_smooth_buffer = Buffer(training_sdf.x.rolling(rolling_size).median())\n",
    "\n",
    "    training_raw_dmap = hv.DynamicMap(hv.Curve, streams=[training_raw_buffer]).relabel('raw')\n",
    "    training_smooth_dmap = hv.DynamicMap(hv.Curve, streams=[training_smooth_buffer]).relabel('smooth')\n",
    "    \n",
    "    return training_stream, training_raw_dmap, training_smooth_dmap"
   ]
  },
  {
   "cell_type": "code",
   "execution_count": null,
   "metadata": {},
   "outputs": [],
   "source": [
    "class PolicyNet(nn.Module):\n",
    "    def __init__(self):\n",
    "        super(PolicyNet, self).__init__()\n",
    "\n",
    "        # 33 continous input state variables\n",
    "        state_size = 33\n",
    "        \n",
    "        # 1 continuous output action, mean and sigma (std. dev.) for each\n",
    "        actions_size = 1\n",
    "        \n",
    "        # Hidden layers\n",
    "        hidden_size = 64\n",
    "        self.fc1 = nn.Linear(state_size, hidden_size)\n",
    "        self.fc2 = nn.Linear(hidden_size, hidden_size)\n",
    "        self.fc3 = nn.Linear(hidden_size, hidden_size)\n",
    "        \n",
    "        # Output layer of action means\n",
    "        self.fc4 = nn.Linear(hidden_size, actions_size)\n",
    "        \n",
    "        # Standard deviations approximated seperately\n",
    "        self.register_parameter('log_sigma', None)\n",
    "        self.log_sigma = nn.Parameter(torch.ones(actions_size), requires_grad=True)        \n",
    "\n",
    "    def forward(self, x):\n",
    "        x = F.relu(self.fc1(x))\n",
    "        x = F.relu(self.fc2(x))\n",
    "        x = F.relu(self.fc3(x))\n",
    "        \n",
    "        means = torch.tanh(self.fc4(x))\n",
    "        sigmas = torch.exp(self.log_sigma).expand(means.shape)\n",
    "        \n",
    "        return means, sigmas"
   ]
  },
  {
   "cell_type": "code",
   "execution_count": null,
   "metadata": {},
   "outputs": [],
   "source": [
    "class Agent():\n",
    "    \n",
    "    # This agent handles multidimensional continuous action spaces by maintaining\n",
    "    # multiple sub-agents, one for each action dimension.\n",
    "    \n",
    "    def __init__(self, action_size=4, lr=1e-2):\n",
    "        \n",
    "        # Create sub agents for each action dimension\n",
    "        self.subagents = [SubAgent(lr=lr) for i in range(action_size)]\n",
    "        \n",
    "    def reset_before_episode(self):\n",
    "        [subagent.reset_before_episode() for subagent in self.subagents]\n",
    "        \n",
    "    def average_episode_return(self):\n",
    "        # all subagents track the same rewards/returns so we just pick one\n",
    "        per_trajectory_rewards = self.subagents[0].trajectories['rewards']\n",
    "        return torch.tensor(per_trajectory_rewards).sum(dim=0).mean().item()\n",
    "    \n",
    "    def act(self, states):\n",
    "        \n",
    "        # Calculate all next actions for all envs\n",
    "        per_subagent_actions = []\n",
    "        for subagent in self.subagents:\n",
    "            \n",
    "            # Get actions this agent\n",
    "            subagent_actions = subagent.act(states)\n",
    "            subagent_actions = np.clip(subagent_actions.numpy(), -1, 1)  \n",
    "            per_subagent_actions.append(subagent_actions)\n",
    "            \n",
    "        # Combine actions from the n sub-agents into the required nD action vector\n",
    "        actions = torch.tensor(per_subagent_actions).float()\n",
    "        actions = actions.permute(1,0,2).squeeze()\n",
    "        return actions\n",
    "    \n",
    "    def record_experience(self, states, actions, rewards, next_states):\n",
    "        [subagent.record_experience(states, actions, rewards, next_states) \n",
    "         for subagent in self.subagents]\n",
    "        \n",
    "    def learn(self):\n",
    "        [subagent.learn() for subagent in self.subagents]"
   ]
  },
  {
   "cell_type": "code",
   "execution_count": null,
   "metadata": {},
   "outputs": [],
   "source": [
    "class SubAgent():\n",
    "    \n",
    "    def __init__(self, lr=1e-2):\n",
    "        self.policy = PolicyNet()\n",
    "        self.optimiser = optim.Adam(self.policy.parameters(), lr=lr)\n",
    "\n",
    "    def reset_before_episode(self):\n",
    "        # We train on multiple environments in parallel, therefore each\n",
    "        # of these lists represents multiple trajectories\n",
    "        self.trajectories = {\n",
    "            \"states\": [],\n",
    "            \"actions\": [],\n",
    "            \"rewards\": [],\n",
    "            \"log_probs\": []\n",
    "        }\n",
    "\n",
    "    def act(self, states):\n",
    "        m = self.action_distribution_for_states(states)\n",
    "        actions = m.sample()\n",
    "        self.trajectories['states'].append(states)\n",
    "        self.trajectories['actions'].append(actions)\n",
    "        self.trajectories['log_probs'].append(m.log_prob(actions))\n",
    "        return actions\n",
    "    \n",
    "    def action_distribution_for_states(self, states):\n",
    "        means, sigmas = self.policy.forward(states)\n",
    "        return torch.distributions.Normal(means, sigmas)\n",
    "    \n",
    "    def record_experience(self, states, actions, rewards, next_states):\n",
    "        self.trajectories['rewards'].append(rewards)\n",
    "    \n",
    "    def learn(self):\n",
    "        \n",
    "        # Calculate future return at each step\n",
    "        # This is just the cummulative sum of rewards calculated backwards from the episode end\n",
    "        per_trajectory_future_return = torch.flip(\n",
    "            torch.cumsum(\n",
    "                torch.flip(\n",
    "                    torch.tensor(self.trajectories['rewards']),\n",
    "                    dims=(0,)),\n",
    "                dim=0\n",
    "            ),\n",
    "            dims=(0,)\n",
    "        )\n",
    "        \n",
    "        # Normalise future return at each step\n",
    "        per_trajectory_future_return -= per_trajectory_future_return.mean(dim=1).unsqueeze(1)\n",
    "        per_trajectory_future_return /= per_trajectory_future_return.std(dim=1).unsqueeze(1) + 1.0e-10\n",
    "\n",
    "        # Prepare probabilities of selecting each action, at each timestep, for each trajectory\n",
    "        # These were recording as the agent selected its actions\n",
    "        # We don't differentiate with respect to these, hence we detach them\n",
    "        old_log_probs = torch.stack(self.trajectories['log_probs']).squeeze(2).detach()\n",
    "        old_probs = torch.exp(old_log_probs)\n",
    "        \n",
    "        # Run through PPO epochs\n",
    "        for ppo_epoch in range(10):\n",
    "        \n",
    "            # Get new probabilities of selecting each action, at each timestep, for each trajectory\n",
    "            # Here we use the current policy, not the one used during the actions themselves\n",
    "            states_actions_pairs = zip(self.trajectories['states'], self.trajectories['actions'])\n",
    "            log_probs_list = [self.action_distribution_for_states(states).log_prob(actions)\n",
    "                                        for (states, actions) in states_actions_pairs]\n",
    "            log_probs = torch.stack(log_probs_list).squeeze(2)\n",
    "            probs = torch.exp(log_probs)\n",
    "\n",
    "            # Define loss using PPO surrogate\n",
    "            per_trajectory_is_ratio = (probs/old_probs)\n",
    "            per_trajectory_surrogate = (per_trajectory_is_ratio * per_trajectory_future_return).sum(dim=0)\n",
    "            loss = -torch.mean(per_trajectory_surrogate)\n",
    "\n",
    "             # Update model\n",
    "            self.optimiser.zero_grad()\n",
    "            loss.backward()\n",
    "            self.optimiser.step()\n",
    "    "
   ]
  },
  {
   "cell_type": "code",
   "execution_count": null,
   "metadata": {},
   "outputs": [],
   "source": []
  },
  {
   "cell_type": "code",
   "execution_count": null,
   "metadata": {},
   "outputs": [],
   "source": [
    "def play_episode_and_learn(envs, agent, time_max=999):\n",
    "    \n",
    "    # Run concurrent episode on all environments\n",
    "    env_info = env.reset(train_mode=True)[brain_name]\n",
    "    agent.reset_before_episode()\n",
    "    states = torch.from_numpy(env_info.vector_observations).float()\n",
    "    for time in range(time_max):\n",
    "        \n",
    "        # Calculate actions for all envs\n",
    "        actions = agent.act(states)\n",
    "        \n",
    "        # Run through the envs in parallel\n",
    "        env_info = env.step(actions.numpy())[brain_name]\n",
    "        next_states = torch.from_numpy(env_info.vector_observations).float()\n",
    "        rewards = env_info.rewards\n",
    "        dones = env_info.local_done\n",
    "        \n",
    "        # Record the experience tuple with the agent\n",
    "        agent.record_experience(states, actions, rewards, next_states)\n",
    "        \n",
    "        # Advance\n",
    "        states = next_states\n",
    "\n",
    "        # We want rectangular input to network, so if any finish early we finish all early\n",
    "        if any(dones):\n",
    "            break\n",
    "    \n",
    "    # Instruct agent to learn from the episode\n",
    "    agent.learn()"
   ]
  },
  {
   "cell_type": "code",
   "execution_count": null,
   "metadata": {},
   "outputs": [],
   "source": []
  },
  {
   "cell_type": "code",
   "execution_count": null,
   "metadata": {},
   "outputs": [],
   "source": [
    "# Create policy and agent\n",
    "agent = Agent(action_size=brain.vector_action_space_size,\n",
    "              lr=3e-4)\n",
    "\n",
    "# Create returns record, this will stay consistent across runs\n",
    "time_index = 0\n",
    "average_returns = []"
   ]
  },
  {
   "cell_type": "code",
   "execution_count": null,
   "metadata": {},
   "outputs": [],
   "source": [
    "# Display training progress\n",
    "stream, smooth, raw = init_training_progress()\n",
    "layout = (smooth * raw)\n",
    "layout.opts(\n",
    "    opts.Curve(width=900, height=300, show_grid=True, tools=['hover'])\n",
    ")"
   ]
  },
  {
   "cell_type": "code",
   "execution_count": null,
   "metadata": {},
   "outputs": [],
   "source": []
  },
  {
   "cell_type": "code",
   "execution_count": null,
   "metadata": {},
   "outputs": [],
   "source": [
    "# Train\n",
    "episode_max = 10\n",
    "time_max = 1024 # 2048\n",
    "for i_episode in range(episode_max):\n",
    "    \n",
    "    play_episode_and_learn(env, agent, time_max=time_max)\n",
    "\n",
    "    stream.emit( pd.DataFrame({'x': agent.average_episode_return()}, index=[time_index]) )\n",
    "    time_index += 1"
   ]
  },
  {
   "cell_type": "code",
   "execution_count": null,
   "metadata": {},
   "outputs": [],
   "source": []
  },
  {
   "cell_type": "code",
   "execution_count": null,
   "metadata": {},
   "outputs": [],
   "source": [
    "# Train\n",
    "episode_max = 100\n",
    "time_max = 1024 # 2048\n",
    "for i_episode in range(episode_max):\n",
    "    \n",
    "    play_episode_and_learn(env, agent, time_max=time_max)\n",
    "\n",
    "    stream.emit( pd.DataFrame({'x': agent.average_episode_return()}, index=[time_index]) )\n",
    "    time_index += 1"
   ]
  },
  {
   "cell_type": "code",
   "execution_count": null,
   "metadata": {},
   "outputs": [],
   "source": []
  },
  {
   "cell_type": "code",
   "execution_count": null,
   "metadata": {},
   "outputs": [],
   "source": []
  },
  {
   "cell_type": "code",
   "execution_count": null,
   "metadata": {},
   "outputs": [],
   "source": []
  },
  {
   "cell_type": "code",
   "execution_count": null,
   "metadata": {},
   "outputs": [],
   "source": []
  }
 ],
 "metadata": {
  "language_info": {
   "name": "python",
   "pygments_lexer": "ipython3"
  }
 },
 "nbformat": 4,
 "nbformat_minor": 2
}
